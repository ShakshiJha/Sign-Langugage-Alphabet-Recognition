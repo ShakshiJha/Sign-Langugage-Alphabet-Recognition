{
 "cells": [
  {
   "cell_type": "code",
   "execution_count": 1,
   "id": "794dc9eb",
   "metadata": {},
   "outputs": [],
   "source": [
    "import mediapipe as mp\n",
    "import cv2\n",
    "import numpy as np"
   ]
  },
  {
   "cell_type": "code",
   "execution_count": 2,
   "id": "f7930514",
   "metadata": {},
   "outputs": [],
   "source": [
    "A_filepath='C:/Users/Shakshi/OneDrive/Documents/Alphabet_recognisation_dataset/A/'"
   ]
  },
  {
   "cell_type": "code",
   "execution_count": 3,
   "id": "2198d9d6",
   "metadata": {},
   "outputs": [],
   "source": [
    "mp_drawing = mp.solutions.drawing_utils\n",
    "mp_drawing_styles = mp.solutions.drawing_styles\n",
    "mp_hands = mp.solutions.hands"
   ]
  },
  {
   "cell_type": "code",
   "execution_count": 4,
   "id": "7db96ff8",
   "metadata": {},
   "outputs": [],
   "source": [
    "cap = cv2.VideoCapture(0)\n",
    "i=0;\n",
    "with mp_hands.Hands(min_detection_confidence=0.5,min_tracking_confidence=0.5) as hands:\n",
    "    while cap.isOpened():\n",
    "        success, image = cap.read()\n",
    "        if not success:\n",
    "            print(\"Ignoring empty camera frame.\")\n",
    "            continue\n",
    "        image = cv2.cvtColor(cv2.flip(image, 1), cv2.COLOR_BGR2RGB)\n",
    "        image.flags.writeable = False\n",
    "        results = hands.process(image)\n",
    "        image.flags.writeable = True\n",
    "        blackblankimage = np.zeros(shape=[200,200, 3], dtype=np.uint8)\n",
    "        image = cv2.cvtColor(image, cv2.COLOR_RGB2BGR)\n",
    "        if results.multi_hand_landmarks:\n",
    "            for hand_landmarks in results.multi_hand_landmarks:\n",
    "                mp_drawing.draw_landmarks(blackblankimage,hand_landmarks,mp_hands.HAND_CONNECTIONS)\n",
    "        blackblankimage=cv2.cvtColor(blackblankimage,cv2.COLOR_RGB2GRAY)    \n",
    "        cv2.imshow('Hands', image)\n",
    "        cv2.imshow('media pipe hands',blackblankimage)\n",
    "        k=cv2.waitKey(1)\n",
    "        if k==32:\n",
    "            cv2.imwrite(A_filepath+'A'+str(i)+'.jpg',blackblankimage)\n",
    "            i=i+1\n",
    "        if k==27 or i==3000:\n",
    "            break\n",
    "cap.release()\n",
    "cv2.destroyAllWindows()"
   ]
  },
  {
   "cell_type": "code",
   "execution_count": null,
   "id": "d9cc98f7",
   "metadata": {},
   "outputs": [],
   "source": []
  }
 ],
 "metadata": {
  "kernelspec": {
   "display_name": "Python 3",
   "language": "python",
   "name": "python3"
  },
  "language_info": {
   "codemirror_mode": {
    "name": "ipython",
    "version": 3
   },
   "file_extension": ".py",
   "mimetype": "text/x-python",
   "name": "python",
   "nbconvert_exporter": "python",
   "pygments_lexer": "ipython3",
   "version": "3.8.8"
  }
 },
 "nbformat": 4,
 "nbformat_minor": 5
}

{
 "cells": [
  {
   "cell_type": "code",
   "execution_count": 1,
   "id": "2ad7cdbd",
   "metadata": {},
   "outputs": [],
   "source": [
    "import numpy as np\n",
    "import pandas as pd\n",
    "import matplotlib.pyplot as plt\n",
    "import cv2\n",
    "import zipfile\n",
    "import glob\n",
    "from numpy import save\n",
    "import os\n",
    "import skimage\n",
    "from skimage.transform import resize\n",
    "import pickle, os, sqlite3, random"
   ]
  },
  {
   "cell_type": "code",
   "execution_count": 2,
   "id": "9dad7c80",
   "metadata": {},
   "outputs": [],
   "source": [
    "IMG_SIZE=80\n",
    "CLASS_NAMES = ['A','B','C','D','E','F','G','H','I','J','K','L','M','N','O','P','Q','R','S','T','U','V','W','X','Y','Z','del','nothing','space']"
   ]
  },
  {
   "cell_type": "code",
   "execution_count": null,
   "id": "56e3bbf7",
   "metadata": {},
   "outputs": [],
   "source": [
    "train_len=87000"
   ]
  },
  {
   "cell_type": "code",
   "execution_count": 16,
   "id": "c54e68a6",
   "metadata": {},
   "outputs": [],
   "source": [
    "train_filepath='C:/Users/Shakshi/Downloads/sign_train/asl_alphabet_train/A1.jpg'"
   ]
  },
  {
   "cell_type": "code",
   "execution_count": 1,
   "id": "4b1105ad",
   "metadata": {},
   "outputs": [],
   "source": [
    "img=cv2.imread('C:/Users/Shakshi/Downloads/sign_train/asl_alphabet_train/A')\n",
    "hist = get_hand_hist()\n",
    "x, y, w, h = 300, 100, 300, 300\n",
    "img = cv2.flip(img, 1)\n",
    "imgHSV = cv2.cvtColor(img, cv2.COLOR_BGR2HSV)\n",
    "dst = cv2.calcBackProject([imgHSV], [0, 1], hist, [0, 180, 0, 256], 1)\n",
    "disc = cv2.getStructuringElement(cv2.MORPH_ELLIPSE,(10,10))\n",
    "cv2.filter2D(dst,-1,disc,dst)\n",
    "blur = cv2.GaussianBlur(dst, (11,11), 0)\n",
    "blur = cv2.medianBlur(blur, 15)\n",
    "thresh = cv2.threshold(blur,0,255,cv2.THRESH_BINARY+cv2.THRESH_OTSU)[1]\n",
    "thresh = cv2.merge((thresh,thresh,thresh))\n",
    "thresh = cv2.cvtColor(thresh, cv2.COLOR_BGR2GRAY)\n",
    "thresh = thresh[y:y+h, x:x+w]\n",
    "contours = cv2.findContours(thresh.copy(), cv2.RETR_TREE, cv2.CHAIN_APPROX_NONE)[1]\n",
    "\n",
    "if len(contours) > 0:\n",
    "    contour = max(contours, key = cv2.contourArea)\n",
    "    if cv2.contourArea(contour) > 10000 and frames > 50 :\n",
    "        x1, y1, w1, h1 = cv2.boundingRect(contour)\n",
    "        save_img = thresh[y1:y1+h1, x1:x1+w1]\n",
    "        if w1 > h1:\n",
    "            save_img = cv2.copyMakeBorder(save_img, int((w1-h1)/2) , int((w1-h1)/2) , 0, 0, cv2.BORDER_CONSTANT, (0, 0, 0))\n",
    "        elif h1 > w1:\n",
    "            save_img = cv2.copyMakeBorder(save_img, 0, 0, int((h1-w1)/2) , int((h1-w1)/2) , cv2.BORDER_CONSTANT, (0, 0, 0))\n",
    "        save_img = cv2.resize(save_img, (image_x, image_y))\n",
    "        rand = random.randint(0, 10)\n",
    "        if rand % 2 == 0:\n",
    "            save_img = cv2.flip(save_img, 1)\n",
    "        cv2.putText(img, \"Capturing...\", (30, 60), cv2.FONT_HERSHEY_TRIPLEX, 2, (127, 255, 255))\n",
    "        cv2.rectangle(img, (x,y), (x+w, y+h), (0,255,0), 2)\n",
    "        cv2.imshow(\"Capturing gesture\", img)\n",
    "        cv2.imshow('thresh ',thresh);\n",
    "        cv2.imshow('save image',save_img)\n",
    "        cv2.waitKey(0)\n",
    "        cv2.destroyAllWindows()"
   ]
  },
  {
   "cell_type": "code",
   "execution_count": 33,
   "id": "a2e39d57",
   "metadata": {},
   "outputs": [],
   "source": [
    "X_train = np.empty((train_len, IMG_SIZE, IMG_SIZE, 1), dtype=np.float32)\n",
    "y_train=np.empty((train_len,), dtype=np.int)"
   ]
  },
  {
   "cell_type": "code",
   "execution_count": 34,
   "id": "d260e598",
   "metadata": {},
   "outputs": [],
   "source": [
    "i=0\n",
    "# minValue=70\n",
    "for folder_name in os.listdir(train_filepath):\n",
    "    for image_path in os.listdir(train_filepath+folder_name):\n",
    "        img=cv2.imread(train_filepath+folder_name+'/'+image_path,cv2.IMREAD_GRAYSCALE)\n",
    "        if(img is not None):\n",
    "            blur = cv2.GaussianBlur(img,(5,5),cv2.BORDER_DEFAULT)\n",
    "            th3 = cv2.adaptiveThreshold(blur,255,cv2.ADAPTIVE_THRESH_GAUSSIAN_C,cv2.THRESH_BINARY_INV,11,2)\n",
    "            ret, res = cv2.threshold(th3, 70, 255, cv2.THRESH_BINARY_INV+cv2.THRESH_OTSU)\n",
    "            res=resize(res,(IMG_SIZE,IMG_SIZE,1))\n",
    "            img_arr=np.asarray(res).reshape((-1,IMG_SIZE,IMG_SIZE,1))\n",
    "            X_train[i]=img_arr\n",
    "            y_train[i]=CLASS_NAMES.index(folder_name)\n",
    "            i=i+1"
   ]
  },
  {
   "cell_type": "code",
   "execution_count": 35,
   "id": "25124b5a",
   "metadata": {},
   "outputs": [],
   "source": [
    "# save('X_train_sr.npy',X_train)"
   ]
  },
  {
   "cell_type": "code",
   "execution_count": 36,
   "id": "f6f3599c",
   "metadata": {},
   "outputs": [],
   "source": [
    "# save('y_train_sr.npy',y_train)"
   ]
  },
  {
   "cell_type": "code",
   "execution_count": 3,
   "id": "30624dab",
   "metadata": {},
   "outputs": [],
   "source": [
    "test_filepath='C:/Users/Shakshi/Downloads/sign_test/asl_alphabet_test/'"
   ]
  },
  {
   "cell_type": "code",
   "execution_count": 4,
   "id": "8009dbd8",
   "metadata": {},
   "outputs": [],
   "source": [
    "test_len=28"
   ]
  },
  {
   "cell_type": "code",
   "execution_count": 5,
   "id": "d1c1f5e1",
   "metadata": {},
   "outputs": [],
   "source": [
    "X_test=np.empty((test_len,IMG_SIZE,IMG_SIZE,1),dtype=np.float32)\n",
    "y_test=np.empty((test_len,),dtype=np.int8)"
   ]
  },
  {
   "cell_type": "code",
   "execution_count": 6,
   "id": "57f82f3f",
   "metadata": {},
   "outputs": [],
   "source": [
    "i=0\n",
    "for image_path in os.listdir(test_filepath):\n",
    "    img=cv2.imread(test_filepath+'/'+image_path,cv2.IMREAD_GRAYSCALE)\n",
    "    if(img is not None):\n",
    "        blur = cv2.GaussianBlur(img,(5,5),cv2.BORDER_DEFAULT)\n",
    "        th3 = cv2.adaptiveThreshold(blur,255,cv2.ADAPTIVE_THRESH_GAUSSIAN_C,cv2.THRESH_BINARY_INV,11,2)\n",
    "        ret, res = cv2.threshold(th3, 70, 255, cv2.THRESH_BINARY_INV+cv2.THRESH_OTSU)\n",
    "        res=resize(res,(IMG_SIZE,IMG_SIZE,1))\n",
    "        img_arr=np.asarray(res).reshape((-1,IMG_SIZE,IMG_SIZE,1))\n",
    "#         if(i==0):\n",
    "#             cv2.imshow('image',res)\n",
    "#             cv2.waitKey(0)\n",
    "#             cv2.destroyAllWindows()\n",
    "        X_test[i]=img_arr\n",
    "        y_test[i]=CLASS_NAMES.index(image_path.split('_')[0])\n",
    "        i=i+1"
   ]
  },
  {
   "cell_type": "code",
   "execution_count": 7,
   "id": "ac64501f",
   "metadata": {},
   "outputs": [],
   "source": [
    "# save('X_test_sr.npy',X_test)\n",
    "# save('y_test_sr.npy',y_test)"
   ]
  },
  {
   "cell_type": "code",
   "execution_count": 8,
   "id": "f686f634",
   "metadata": {},
   "outputs": [],
   "source": [
    "# X_train.shape"
   ]
  },
  {
   "cell_type": "code",
   "execution_count": 9,
   "id": "75d58940",
   "metadata": {},
   "outputs": [],
   "source": [
    "cv2.imshow('image',X_test[9])\n",
    "\n",
    "cv2.waitKey(0)\n",
    "cv2.destroyAllWindows()"
   ]
  },
  {
   "cell_type": "code",
   "execution_count": null,
   "id": "620da1ab",
   "metadata": {},
   "outputs": [],
   "source": []
  }
 ],
 "metadata": {
  "kernelspec": {
   "display_name": "Python 3",
   "language": "python",
   "name": "python3"
  },
  "language_info": {
   "codemirror_mode": {
    "name": "ipython",
    "version": 3
   },
   "file_extension": ".py",
   "mimetype": "text/x-python",
   "name": "python",
   "nbconvert_exporter": "python",
   "pygments_lexer": "ipython3",
   "version": "3.8.8"
  }
 },
 "nbformat": 4,
 "nbformat_minor": 5
}
